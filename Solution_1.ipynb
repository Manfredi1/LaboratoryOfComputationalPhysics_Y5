{
 "cells": [
  {
   "cell_type": "code",
   "execution_count": 10,
   "id": "ef356ec5",
   "metadata": {},
   "outputs": [
    {
     "name": "stdout",
     "output_type": "stream",
     "text": [
      "Unique number are:\n",
      "5\n",
      "8\n"
     ]
    }
   ],
   "source": [
    "l=[3,2,4,3,2,5,8,3,4,4]\n",
    "print(\"Unique number are:\")\n",
    "for i in l:\n",
    "    f=0\n",
    "    for j in l:\n",
    "        if i == j: f+=1\n",
    "    if f == 1: print(i)"
   ]
  },
  {
   "cell_type": "code",
   "execution_count": 13,
   "id": "71a48bcd",
   "metadata": {},
   "outputs": [
    {
     "name": "stdout",
     "output_type": "stream",
     "text": [
      "Unique number are:\n",
      "5\n",
      "8\n"
     ]
    }
   ],
   "source": [
    "def unique(list):\n",
    "    print(\"Unique number are:\")\n",
    "    for i in list:\n",
    "        f=0\n",
    "        for j in list:\n",
    "            if i == j: f+=1\n",
    "        if f == 1: print(i)\n",
    "unique(l)"
   ]
  },
  {
   "cell_type": "code",
   "execution_count": null,
   "id": "f6929b7b",
   "metadata": {},
   "outputs": [],
   "source": []
  }
 ],
 "metadata": {
  "kernelspec": {
   "display_name": "Python 3 (ipykernel)",
   "language": "python",
   "name": "python3"
  },
  "language_info": {
   "codemirror_mode": {
    "name": "ipython",
    "version": 3
   },
   "file_extension": ".py",
   "mimetype": "text/x-python",
   "name": "python",
   "nbconvert_exporter": "python",
   "pygments_lexer": "ipython3",
   "version": "3.10.4"
  }
 },
 "nbformat": 4,
 "nbformat_minor": 5
}
