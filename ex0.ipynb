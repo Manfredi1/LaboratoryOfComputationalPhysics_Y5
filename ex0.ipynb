{
 "cells": [
  {
   "cell_type": "code",
   "execution_count": 50,
   "id": "c69c4871",
   "metadata": {},
   "outputs": [
    {
     "name": "stdout",
     "output_type": "stream",
     "text": [
      "---------\n",
      "(1, 2, 'Donald', 4, 'Duck', 'Donald', 7, 8, 'Donald', 'Duck', 11, 'Donald', 13, 14, 'DonaldDuck', 16, 17, 'Donald', 19, 'Duck', 'Donald', 22, 23, 'Donald', 'Duck', 26, 'Donald', 28, 29, 'DonaldDuck', 31, 32, 'Donald', 34, 'Duck', 'Donald', 37, 38, 'Donald', 'Duck', 41, 'Donald', 43, 44, 'DonaldDuck', 46, 47, 'Donald', 49, 'Duck', 'Donald', 52, 53, 'Donald', 'Duck', 56, 'Donald', 58, 59, 'DonaldDuck', 61, 62, 'Donald', 64, 'Duck', 'Donald', 67, 68, 'Donald', 'Duck', 71, 'Donald', 73, 74, 'DonaldDuck', 76, 77, 'Donald', 79, 'Duck', 'Donald', 82, 83, 'Donald', 'Duck', 86, 'Donald', 88, 89, 'DonaldDuck', 91, 92, 'Donald', 94, 'Duck', 'Donald', 97, 98, 'Donald', 'Duck')\n"
     ]
    }
   ],
   "source": [
    "#Donald Duck and Mickey Mouse\n",
    "a = []    \n",
    "for i in range(1,101):\n",
    "    if (i % 15) == 0: a.append(\"MickeyMouse\")\n",
    "    elif i % 5 == 0: a.append('Mouse')\n",
    "    elif i % 3 == 0: a.append(\"Mickey\")\n",
    "    else: a.append(i)\n",
    "    #print(a[i-1])\n",
    "        \n",
    "t = tuple(a)\n",
    "#print(\"---------\")\n",
    "        \n",
    "for j in t:\n",
    "    if j == 'Mickey': j = \"Donald\"\n",
    "    elif j == \"Mouse\": j = \"Duck\"\n",
    "    elif j == \"MickeyMouse\": j = \"DonaldDuck\"\n",
    "    #print(j)\n",
    "\n",
    "print(\"---------\")\n",
    "t=list(t)\n",
    "#print(t)\n",
    "i = 0\n",
    "b = []\n",
    "while i < len(t):\n",
    "    if t[i] == \"Mickey\": b.append(\"Donald\")\n",
    "    elif t[i] == \"Mouse\": b.append(\"Duck\")\n",
    "    elif t[i] == \"MickeyMouse\": b.append(\"DonaldDuck\")\n",
    "    else: b.append(t[i])\n",
    "    i += 1\n",
    "    #print(i)\n",
    "    #print(b[i])\n",
    "print(tuple(b))"
   ]
  },
  {
   "cell_type": "code",
   "execution_count": 68,
   "id": "70e615b1",
   "metadata": {},
   "outputs": [
    {
     "name": "stdout",
     "output_type": "stream",
     "text": [
      "primo secondo\n",
      "secondo primo\n"
     ]
    }
   ],
   "source": [
    "#Swap\n",
    "def swap(a,b):\n",
    "    print(a,b)\n",
    "    a, b = b, a\n",
    "    print(a,b)\n",
    "\n",
    "x = \"primo\"\n",
    "y = \"secondo\"\n",
    "\n",
    "swap(x,y)"
   ]
  },
  {
   "cell_type": "code",
   "execution_count": 77,
   "id": "8d93428f",
   "metadata": {},
   "outputs": [
    {
     "name": "stdout",
     "output_type": "stream",
     "text": [
      "Euclidean distance: 5.0\n"
     ]
    }
   ],
   "source": [
    "#Distance\n",
    "import math\n",
    "def d(u,v):\n",
    "    distance = math.sqrt((u[0]-v[0])**2 + (u[1]-v[1])**2)\n",
    "    print(\"Euclidean distance:\", distance)\n",
    "\n",
    "x,y = (3,0), (0,4)\n",
    "d(x,y)"
   ]
  },
  {
   "cell_type": "markdown",
   "id": "a5a62df8",
   "metadata": {},
   "source": []
  }
 ],
 "metadata": {
  "kernelspec": {
   "display_name": "Python 3 (ipykernel)",
   "language": "python",
   "name": "python3"
  },
  "language_info": {
   "codemirror_mode": {
    "name": "ipython",
    "version": 3
   },
   "file_extension": ".py",
   "mimetype": "text/x-python",
   "name": "python",
   "nbconvert_exporter": "python",
   "pygments_lexer": "ipython3",
   "version": "3.10.6"
  }
 },
 "nbformat": 4,
 "nbformat_minor": 5
}
