{
 "cells": [
  {
   "cell_type": "code",
   "execution_count": 1,
   "id": "4c03203a",
   "metadata": {},
   "outputs": [
    {
     "name": "stdout",
     "output_type": "stream",
     "text": [
      "011011\n",
      "54\n",
      "110110\n",
      "\n",
      "1\n",
      "2\n",
      "3\n",
      "4\n",
      "5\n",
      "6\n",
      "7\n",
      "8\n",
      "9\n",
      "A\n",
      "B\n",
      "C\n",
      "D\n",
      "E\n",
      "F\n",
      "10\n",
      "11\n",
      "12\n",
      "13\n",
      "14\n",
      "15\n",
      "16\n",
      "17\n",
      "18\n",
      "19\n",
      "1A\n",
      "1B\n",
      "1C\n",
      "1D\n",
      "1E\n",
      "1F\n",
      "20\n",
      "21\n",
      "22\n",
      "23\n",
      "24\n",
      "25\n",
      "26\n",
      "27\n",
      "28\n",
      "29\n",
      "2A\n",
      "2B\n",
      "2C\n",
      "2D\n",
      "2E\n",
      "2F\n",
      "30\n",
      "31\n"
     ]
    }
   ],
   "source": [
    "#Conversion\n",
    "\n",
    "def decimal(x,base):\n",
    "    res, i = 0, 0\n",
    "    for a in reversed(str(x)):\n",
    "        print(int(a), end=\"\")\n",
    "        res += int(a) * base**i\n",
    "        i += 1\n",
    "    print()\n",
    "    return res\n",
    "\n",
    "def binary(x):\n",
    "    res=\"\"\n",
    "    while x > 0:\n",
    "        res += str(int(x % 2))\n",
    "        x -= (x % 2)\n",
    "        x = int(x)/2\n",
    "    print(res[::-1])\n",
    "    \n",
    "def hexa(x):\n",
    "    conv = {10:'A',11:'B',12:'C',13:'D',14:'E',15:'F'}\n",
    "    res=''\n",
    "    while x > 0:\n",
    "        if (x % 16 ) > 9: res += conv[int(x % 16)]\n",
    "        else:\n",
    "            res += str(int(x % 16))\n",
    "        x -= (x % 16)\n",
    "        x = int(x) / 16\n",
    "    print(res[::-1], end='')\n",
    "\n",
    "\n",
    "n=110110\n",
    "print(decimal(n,2))\n",
    "binary(54)\n",
    "for i in range(50):\n",
    "    hexa(i)\n",
    "    print()"
   ]
  },
  {
   "cell_type": "code",
   "execution_count": 66,
   "id": "830e5383",
   "metadata": {},
   "outputs": [
    {
     "name": "stdout",
     "output_type": "stream",
     "text": [
      "01000011000101111010000101001000 \n",
      "is equivalent to:\n",
      "151.6300048828125\n"
     ]
    }
   ],
   "source": [
    "#Conversion from 32bit in single float\n",
    "\n",
    "def bittonumber(w):\n",
    "    sign = (-1)**(int(w[0]))\n",
    "    exponent = int(w[1:9],2)\n",
    "    mantissa = 1\n",
    "    i = -1\n",
    "    for x in w[9:]:\n",
    "        mantissa += int(x)*2**i\n",
    "        i -=1\n",
    "    number = sign * mantissa * 2**(exponent-127)\n",
    "    print(w, \"\\nis equivalent to:\")\n",
    "    print(number)\n",
    "\n",
    "word = \"01000011000101111010000101001000\"\n",
    "bittonumber(word)"
   ]
  },
  {
   "cell_type": "code",
   "execution_count": 85,
   "id": "9e02c6a7",
   "metadata": {},
   "outputs": [
    {
     "name": "stdout",
     "output_type": "stream",
     "text": [
      "Solving: 0.001x**2+1000x+0.001=0\n",
      "\n",
      "x_1= -9.999894245993346e-07\n",
      "x_2= -999999.999999\n",
      "----------------\n",
      "Second calculation:\n",
      "x_1= -9.999894245993346e-07\n",
      "x_2= -999999.9999990001\n"
     ]
    }
   ],
   "source": [
    "#Quadratic Formula\n",
    "import math\n",
    "\n",
    "def solve(a,b,c):\n",
    "    delta = b**2-4*a*c\n",
    "    res1 = (-b + math.sqrt(delta))/(2*a)\n",
    "    res2 = (-b - math.sqrt(delta))/(2*a)\n",
    "    print(\"x_1=\",res1)\n",
    "    print (\"x_2=\",res2)\n",
    "    print(\"----------------\\nSecond calculation:\")\n",
    "    res1 = ((-b + math.sqrt(delta)) * (-b - math.sqrt(delta)) )/ ( (2*a)*(-b - math.sqrt(delta)) )\n",
    "    res2 = ((-b - math.sqrt(delta)) * (-b + math.sqrt(delta)) )/ ( (2*a)*(-b + math.sqrt(delta)) )\n",
    "    print(\"x_1=\",res1)\n",
    "    print (\"x_2=\",res2)\n",
    "    \n",
    "    \n",
    "a,b,c = .001,1000,.001\n",
    "\n",
    "print(f\"Solving: {a}x**2+{b}x+{c}=0\\n\")\n",
    "solve(a,b,c)"
   ]
  },
  {
   "cell_type": "code",
   "execution_count": 269,
   "id": "d48cc7e1",
   "metadata": {},
   "outputs": [
    {
     "name": "stdout",
     "output_type": "stream",
     "text": [
      "1.010000000000001 with an error= 1.00000000 %\n",
      "1.0000999999998899 with an error= 0.01000000 %\n",
      "1.0000009999177333 with an error= 0.00009999 %\n",
      "1.0000000039225287 with an error= 0.00000039 %\n",
      "1.000000082840371 with an error= 0.00000828 %\n",
      "1.0000889005833413 with an error= 0.00889006 %\n",
      "0.9992007221626509 with an error= 0.07992778 %\n"
     ]
    }
   ],
   "source": [
    "#Derivative\n",
    "\n",
    "def func(x):\n",
    "    return x*(x-1)\n",
    "\n",
    "def der(g,x,delta):\n",
    "    result = (g(x+delta)-g(x))/delta\n",
    "    return result\n",
    "\n",
    "for x in range(2,16,2):\n",
    "    eps = 10**(-x)\n",
    "    error = abs((der(func,1, eps)) - 1)*100\n",
    "    print((der(func,1, eps)), \"with an error= %.8f\"%(error),\"%\")"
   ]
  },
  {
   "cell_type": "code",
   "execution_count": 265,
   "id": "f4afe599",
   "metadata": {},
   "outputs": [
    {
     "name": "stdout",
     "output_type": "stream",
     "text": [
      "True value of integral: 1.571\n",
      "approx: 1.569\n",
      "error: 0.10581074180626306 %\n",
      "---------------------\n",
      "N= 3574335 running time: 1.150 s\n",
      "Whith an error: 7.548205456437893e-09 %\n",
      "---------------------\n",
      "N= 3574335 running time: 61.001 s\n",
      "Whith an error: 2.2128091461884284e-07 %\n"
     ]
    }
   ],
   "source": [
    "#Integral\n",
    "\n",
    "def riem(x):\n",
    "    res = math.sqrt(1-x**2)\n",
    "    return res\n",
    "\n",
    "def integ(f,x,xmax,n):\n",
    "    h = 2/n\n",
    "    area = 0\n",
    "    #print(\"  x    f(x)    f(x+h) area\")\n",
    "    #print(\"---------------------------\")\n",
    "    while x < xmax:\n",
    "        #print(\"%5.2f %6.2f %6.2f %6.2f\"%(x,f(x),f(x+h) ,area))\n",
    "        #area += h*(f(x+h)+f(x))/2\n",
    "        area += h*f(x)\n",
    "        x += h\n",
    "    return area\n",
    "\n",
    "tru = math.pi/2\n",
    "N = 100\n",
    "approx = integ(riem,-1,1,N)\n",
    "err = 100*abs(tru-approx)/tru\n",
    "\n",
    "print(\"True value of integral: %.3f\" % (tru))\n",
    "print( \"approx: %.3f\" % (approx))\n",
    "print(\"error:\", err, \"%\")\n",
    "\n",
    "t=0\n",
    "while t < 1:\n",
    "    ti = time.perf_counter()\n",
    "    approx = integ(riem,-1,1,N)\n",
    "    tf = time.perf_counter()\n",
    "    t = tf - ti\n",
    "    N *=1.1\n",
    "    \n",
    "print(\"---------------------\")\n",
    "err = 100*abs(tru-approx)/tru\n",
    "print( \"N=\",int(N),\"running time: %.3f s\" % (t))\n",
    "print(\"Whith an error:\", err, \"%\")\n",
    "\n",
    "\n",
    "ti = time.perf_counter()\n",
    "approx = integ(riem,-1,1,N*59)\n",
    "tf = time.perf_counter()\n",
    "t = tf - ti\n",
    "    \n",
    "print(\"---------------------\")\n",
    "err = 100*abs(tru-approx)/tru\n",
    "print( \"N=\",int(N),\"running time: %.3f s\" % (t))\n",
    "print(\"Whith an error:\", err, \"%\")"
   ]
  },
  {
   "cell_type": "code",
   "execution_count": null,
   "id": "dc1b56cf",
   "metadata": {},
   "outputs": [],
   "source": []
  },
  {
   "cell_type": "code",
   "execution_count": null,
   "id": "de0f95b7",
   "metadata": {},
   "outputs": [],
   "source": []
  }
 ],
 "metadata": {
  "kernelspec": {
   "display_name": "Python 3 (ipykernel)",
   "language": "python",
   "name": "python3"
  },
  "language_info": {
   "codemirror_mode": {
    "name": "ipython",
    "version": 3
   },
   "file_extension": ".py",
   "mimetype": "text/x-python",
   "name": "python",
   "nbconvert_exporter": "python",
   "pygments_lexer": "ipython3",
   "version": "3.10.6"
  }
 },
 "nbformat": 4,
 "nbformat_minor": 5
}
