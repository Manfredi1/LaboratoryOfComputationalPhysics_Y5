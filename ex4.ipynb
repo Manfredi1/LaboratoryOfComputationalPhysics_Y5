{
 "cells": [
  {
   "cell_type": "code",
   "execution_count": 1,
   "id": "2a8dedbd",
   "metadata": {},
   "outputs": [],
   "source": [
    "import numpy as np\n",
    "from matplotlib import pyplot as plt \n",
    "from math import *"
   ]
  },
  {
   "cell_type": "code",
   "execution_count": 2,
   "id": "24b4caa3",
   "metadata": {},
   "outputs": [
    {
     "name": "stdout",
     "output_type": "stream",
     "text": [
      "row mean:  [1.5 5.5 9.5]\n",
      "column mean:  [4. 5. 6. 7.]\n",
      "overall mean:  5.5\n"
     ]
    }
   ],
   "source": [
    "m = np.arange(12).reshape((3,4))\n",
    "#print(m)\n",
    "print(\"row mean: \", np.mean(m, axis=1))\n",
    "print(\"column mean: \", np.mean(m, axis=0))\n",
    "print(\"overall mean: \", np.mean(m))"
   ]
  },
  {
   "cell_type": "code",
   "execution_count": 3,
   "id": "cd889f2a",
   "metadata": {
    "scrolled": true
   },
   "outputs": [
    {
     "name": "stdout",
     "output_type": "stream",
     "text": [
      "u:\n",
      " [1 3 5 7]\n",
      "v:\n",
      " [2 4 6 8]\n",
      "numpy:\n",
      " [[ 2  4  6  8]\n",
      " [ 6 12 18 24]\n",
      " [10 20 30 40]\n",
      " [14 28 42 56]]\n",
      "for cicle:\n",
      " [[ 2  4  6  8]\n",
      " [ 6 12 18 24]\n",
      " [10 20 30 40]\n",
      " [14 28 42 56]]\n",
      "list comprehension:\n",
      " [[ 2  4  6  8]\n",
      " [ 6 12 18 24]\n",
      " [10 20 30 40]\n",
      " [14 28 42 56]]\n",
      "broadcasting:\n",
      " [1 3 5 7] [2 4 6 8] [ 2 12 30 56]\n"
     ]
    }
   ],
   "source": [
    "u = np.array([1,3,5,7])\n",
    "v = np.array([2,4,6,8])\n",
    "print('u:\\n',u)\n",
    "print('v:\\n',v)\n",
    "\n",
    "outer = np.outer(u,v)\n",
    "print('numpy:\\n',outer)\n",
    "\n",
    "index = 0\n",
    "for i in u:\n",
    "    outer[index] = i*v\n",
    "    index += 1\n",
    "print('for cicle:\\n',outer)\n",
    "\n",
    "outer = np.array([i*j for i in u for j in v]).reshape(4,4)\n",
    "print('list comprehension:\\n',outer)\n",
    "\n",
    "outer = u*v.T\n",
    "print('broadcasting:\\n',u,v,outer)"
   ]
  },
  {
   "cell_type": "code",
   "execution_count": 4,
   "id": "13aa8775",
   "metadata": {},
   "outputs": [
    {
     "name": "stdout",
     "output_type": "stream",
     "text": [
      "\n",
      "\n",
      " [0.66474735 0.71533372 0.30024597 0.76897314 0.         0.37663235\n",
      " 0.6297636  0.49211617 0.40391443 0.21492631 0.62487498 0.66052099\n",
      " 0.7176084  0.80382275 0.11413863 0.84521709 0.13746757 0.67580551\n",
      " 0.70034881 0.9307778  0.2613086  0.67429421 0.85363115 0.82895852\n",
      " 0.34411075 0.91937535 0.47605321 0.40377526 0.59413896 0.\n",
      " 0.78106281 0.24381509 0.         0.48230401 0.         0.15311145\n",
      " 0.39330757 0.         0.14109939 0.37357848 0.91485365 0.9114312\n",
      " 0.14811892 0.45017483 0.34090264 0.21418977 0.69919065 0.84760829\n",
      " 0.73481242 0.54556525 0.48320103 0.65248147 0.60003631 0.\n",
      " 0.8819565  0.74837105 0.         0.78877971 0.46654542 0.59301179]\n"
     ]
    }
   ],
   "source": [
    "m = np.random.random(60)\n",
    "b = np.array([u if u > 0.1 else 0 for u in m])\n",
    "print('\\n\\n',b)"
   ]
  },
  {
   "cell_type": "code",
   "execution_count": 28,
   "id": "bd071326",
   "metadata": {},
   "outputs": [
    {
     "name": "stdout",
     "output_type": "stream",
     "text": [
      "tenth elements\n",
      " [0.         0.63466518 1.26933037 1.90399555 2.53866073 3.17332591\n",
      " 3.8079911  4.44265628 5.07732146 5.71198664]\n",
      "inverse:\n",
      " [6.28318531 6.21971879 6.15625227 6.09278575 6.02931923 5.96585272\n",
      " 5.9023862  5.83891968 5.77545316 5.71198664 5.64852012 5.58505361\n",
      " 5.52158709 5.45812057 5.39465405 5.33118753 5.26772102 5.2042545\n",
      " 5.14078798 5.07732146 5.01385494 4.95038842 4.88692191 4.82345539\n",
      " 4.75998887 4.69652235 4.63305583 4.56958931 4.5061228  4.44265628\n",
      " 4.37918976 4.31572324 4.25225672 4.1887902  4.12532369 4.06185717\n",
      " 3.99839065 3.93492413 3.87145761 3.8079911  3.74452458 3.68105806\n",
      " 3.61759154 3.55412502 3.4906585  3.42719199 3.36372547 3.30025895\n",
      " 3.23679243 3.17332591 3.10985939 3.04639288 2.98292636 2.91945984\n",
      " 2.85599332 2.7925268  2.72906028 2.66559377 2.60212725 2.53866073\n",
      " 2.47519421 2.41172769 2.34826118 2.28479466 2.22132814 2.15786162\n",
      " 2.0943951  2.03092858 1.96746207 1.90399555 1.84052903 1.77706251\n",
      " 1.71359599 1.65012947 1.58666296 1.52319644 1.45972992 1.3962634\n",
      " 1.33279688 1.26933037 1.20586385 1.14239733 1.07893081 1.01546429\n",
      " 0.95199777 0.88853126 0.82506474 0.76159822 0.6981317  0.63466518\n",
      " 0.57119866 0.50773215 0.44426563 0.38079911 0.31733259 0.25386607\n",
      " 0.19039955 0.12693304 0.06346652 0.        ]\n",
      "condition:\n",
      " [0.76159822 0.82506474 3.87145761 3.93492413]\n"
     ]
    },
    {
     "data": {
      "text/plain": [
       "[<matplotlib.lines.Line2D at 0x7f05a83d9520>]"
      ]
     },
     "execution_count": 28,
     "metadata": {},
     "output_type": "execute_result"
    },
    {
     "data": {
      "image/png": "[encoded data removed]",
      "text/plain": [
       "<Figure size 432x288 with 1 Axes>"
      ]
     },
     "metadata": {
      "needs_background": "light"
     },
     "output_type": "display_data"
    }
   ],
   "source": [
    "a = np.linspace(0,2*pi,100)\n",
    "print(\"tenth elements\\n\",a[::10])\n",
    "print(\"inverse:\\n\",a[::-1])\n",
    "prox = a[abs(np.sin(a)-np.cos(a))<.1]\n",
    "print(\"condition:\\n\",prox)\n",
    "plt.plot(a,np.sin(a))\n",
    "plt.plot(a,np.cos(a))\n",
    "plt.plot(prox,np.sin(prox),\".b\")\n",
    "plt.plot(prox,np.cos(prox),\".r\")"
   ]
  },
  {
   "cell_type": "code",
   "execution_count": 51,
   "id": "d0f8cb85",
   "metadata": {},
   "outputs": [
    {
     "name": "stdout",
     "output_type": "stream",
     "text": [
      "[[  1   2   3   4   5   6   7   8   9  10]\n",
      " [  2   4   6   8  10  12  14  16  18  20]\n",
      " [  3   6   9  12  15  18  21  24  27  30]\n",
      " [  4   8  12  16  20  24  28  32  36  40]\n",
      " [  5  10  15  20  25  30  35  40  45  50]\n",
      " [  6  12  18  24  30  36  42  48  54  60]\n",
      " [  7  14  21  28  35  42  49  56  63  70]\n",
      " [  8  16  24  32  40  48  56  64  72  80]\n",
      " [  9  18  27  36  45  54  63  72  81  90]\n",
      " [ 10  20  30  40  50  60  70  80  90 100]]\n",
      "trace: 385\n",
      "anto-diagonal: [10, 18, 24, 28, 30, 30, 28, 24, 18, 10]\n",
      "diagonal with offset: [2, 6, 12, 20, 30, 42, 56, 72, 90]\n"
     ]
    }
   ],
   "source": [
    "m = np.array([i*j for i in range(1,11) for j in range(1,11) ]).reshape(10,10)\n",
    "print(m)\n",
    "diag = [m[i,i] for i in range (10)]\n",
    "print(\"trace:\",np.sum(diag))\n",
    "anto = [m[i,j] for (i,j) in zip(range(10),range(9,-1,-1))]\n",
    "print(\"anto-diagonal:\",anto)\n",
    "print(\"diagonal with offset:\", [m[i,i+1] for i in range (9)])"
   ]
  },
  {
   "cell_type": "code",
   "execution_count": 64,
   "id": "cee1b807",
   "metadata": {},
   "outputs": [
    {
     "name": "stdout",
     "output_type": "stream",
     "text": [
      "[[    0   198   303   736   871  1175  1475  1544  1913  2448]\n",
      " [ -198     0   105   538   673   977  1277  1346  1715  2250]\n",
      " [ -303  -105     0   433   568   872  1172  1241  1610  2145]\n",
      " [ -736  -538  -433     0   135   439   739   808  1177  1712]\n",
      " [ -871  -673  -568  -135     0   304   604   673  1042  1577]\n",
      " [-1175  -977  -872  -439  -304     0   300   369   738  1273]\n",
      " [-1475 -1277 -1172  -739  -604  -300     0    69   438   973]\n",
      " [-1544 -1346 -1241  -808  -673  -369   -69     0   369   904]\n",
      " [-1913 -1715 -1610 -1177 -1042  -738  -438  -369     0   535]\n",
      " [-2448 -2250 -2145 -1712 -1577 -1273  -973  -904  -535     0]]\n",
      "in kilometers:\n",
      " [[    0.      318.582   487.527  1184.224  1401.439  1890.575  2373.275\n",
      "   2484.296  3078.017  3938.832]\n",
      " [ -318.582     0.      168.945   865.642  1082.857  1571.993  2054.693\n",
      "   2165.714  2759.435  3620.25 ]\n",
      " [ -487.527  -168.945     0.      696.697   913.912  1403.048  1885.748\n",
      "   1996.769  2590.49   3451.305]\n",
      " [-1184.224  -865.642  -696.697     0.      217.215   706.351  1189.051\n",
      "   1300.072  1893.793  2754.608]\n",
      " [-1401.439 -1082.857  -913.912  -217.215     0.      489.136   971.836\n",
      "   1082.857  1676.578  2537.393]\n",
      " [-1890.575 -1571.993 -1403.048  -706.351  -489.136     0.      482.7\n",
      "    593.721  1187.442  2048.257]\n",
      " [-2373.275 -2054.693 -1885.748 -1189.051  -971.836  -482.7       0.\n",
      "    111.021   704.742  1565.557]\n",
      " [-2484.296 -2165.714 -1996.769 -1300.072 -1082.857  -593.721  -111.021\n",
      "      0.      593.721  1454.536]\n",
      " [-3078.017 -2759.435 -2590.49  -1893.793 -1676.578 -1187.442  -704.742\n",
      "   -593.721     0.      860.815]\n",
      " [-3938.832 -3620.25  -3451.305 -2754.608 -2537.393 -2048.257 -1565.557\n",
      "  -1454.536  -860.815     0.   ]]\n"
     ]
    }
   ],
   "source": [
    "d = np.array([0, 198, 303, 736, 871, 1175, 1475, 1544, 1913, 2448])\n",
    "grid = d.reshape(1,10)-d.reshape(10,1)\n",
    "print(grid)\n",
    "print(\"in kilometers:\\n\",grid*1.609)"
   ]
  },
  {
   "cell_type": "code",
   "execution_count": 178,
   "id": "278b095b",
   "metadata": {},
   "outputs": [
    {
     "data": {
      "image/png": "[encoded data removed]",
      "text/plain": [
       "<Figure size 432x288 with 1 Axes>"
      ]
     },
     "metadata": {
      "needs_background": "light"
     },
     "output_type": "display_data"
    }
   ],
   "source": [
    "def prime(N):\n",
    "    n = np.array([i for i in range(1,N)])\n",
    "    for number in range(2,10):\n",
    "        mask =  (n <= number) | (n % number != 0)\n",
    "        n = n[mask]\n",
    "    #print(n)\n",
    "\n",
    "from time import perf_counter\n",
    "def performance(f,N):\n",
    "    perf= []\n",
    "    for i in range(10):\n",
    "        delta = 0\n",
    "        for j in range(10_000):\n",
    "            t1 = perf_counter()\n",
    "            f(i*100)\n",
    "            t2 = perf_counter()\n",
    "            delta += t2-t1\n",
    "        perf.append(delta/10_000)\n",
    "    \n",
    "    perf = np.array(perf)*1_000_000\n",
    "    N = np.array([i for i in range(100,1100,100)])\n",
    "    plt.plot(N,perf, \"o\")\n",
    "\n",
    "performance(prime,N)"
   ]
  },
  {
   "cell_type": "code",
   "execution_count": 24,
   "id": "677b8486",
   "metadata": {},
   "outputs": [
    {
     "data": {
      "text/plain": [
       "[<matplotlib.lines.Line2D at 0x7f61f8db06d0>]"
      ]
     },
     "execution_count": 24,
     "metadata": {},
     "output_type": "execute_result"
    },
    {
     "data": {
      "image/png": "[encoded data removed]",
      "text/plain": [
       "<Figure size 432x288 with 1 Axes>"
      ]
     },
     "metadata": {
      "needs_background": "light"
     },
     "output_type": "display_data"
    }
   ],
   "source": [
    "def rw(step,walker):\n",
    "    a = np.array([0]*walker).reshape(walker,1)\n",
    "    for ev in range(step):\n",
    "        b = np.random.rand(walker,1)\n",
    "        i = 0\n",
    "        while i < walker:\n",
    "            b[i] = a[i,-1]+1 if b[i]>.5 else a[i,-1]-1\n",
    "            i += 1\n",
    "        a = np.concatenate((a,b),axis=1)\n",
    "    return np.sqrt(np.sum( a[:,-1]**2 ))\n",
    "\n",
    "group = 1000\n",
    "time = 200\n",
    "\n",
    "x = np.arange(1,time)\n",
    "y = []\n",
    "for i in x:\n",
    "    #print(\"random walk:\", rw(i,2000))\n",
    "    y.append(rw(i,group))\n",
    "\n",
    "#print(y)\n",
    "plt.plot(x,y,\".\")"
   ]
  },
  {
   "cell_type": "code",
   "execution_count": 26,
   "id": "c9390ec4",
   "metadata": {},
   "outputs": [
    {
     "name": "stdout",
     "output_type": "stream",
     "text": [
      "--2022-11-18 15:09:56--  https://www.dropbox.com/s/3vigxoqayo389uc/populations.txt\n",
      "Risoluzione di www.dropbox.com (www.dropbox.com)... 2620:100:6025:18::a27d:4512, 162.125.69.18\n",
      "Connessione a www.dropbox.com (www.dropbox.com)|2620:100:6025:18::a27d:4512|:443... connesso.\n",
      "Richiesta HTTP inviata, in attesa di risposta... 302 Found\n",
      "Posizione: /s/raw/3vigxoqayo389uc/populations.txt [segue]\n",
      "--2022-11-18 15:09:58--  https://www.dropbox.com/s/raw/3vigxoqayo389uc/populations.txt\n",
      "Riutilizzo della connessione esistente a [www.dropbox.com]:443.\n",
      "Richiesta HTTP inviata, in attesa di risposta... 302 Found\n",
      "Posizione: https://uc059dc144b2acafce397db9cb73.dl.dropboxusercontent.com/cd/0/inline/Bw9wdlJ91V73zuljzkHlMebL8FtyXmnCFsFQzX9KZrCiXN085kmWjoliqWuNNEUknYZOlFxDdQnDhhuz6_GEBJ1452hsbaMsOvdTugbgEBdEYsMW06maAEfZJRJhIIEWm1D2V3-S19K36NZ0My3xA54hhGTfDH1Cej2C4SxcEqeKuQ/file# [segue]\n",
      "--2022-11-18 15:09:59--  https://uc059dc144b2acafce397db9cb73.dl.dropboxusercontent.com/cd/0/inline/Bw9wdlJ91V73zuljzkHlMebL8FtyXmnCFsFQzX9KZrCiXN085kmWjoliqWuNNEUknYZOlFxDdQnDhhuz6_GEBJ1452hsbaMsOvdTugbgEBdEYsMW06maAEfZJRJhIIEWm1D2V3-S19K36NZ0My3xA54hhGTfDH1Cej2C4SxcEqeKuQ/file\n",
      "Risoluzione di uc059dc144b2acafce397db9cb73.dl.dropboxusercontent.com (uc059dc144b2acafce397db9cb73.dl.dropboxusercontent.com)... 2620:100:6025:15::a27d:450f, 162.125.69.15\n",
      "Connessione a uc059dc144b2acafce397db9cb73.dl.dropboxusercontent.com (uc059dc144b2acafce397db9cb73.dl.dropboxusercontent.com)|2620:100:6025:15::a27d:450f|:443... connesso.\n",
      "Richiesta HTTP inviata, in attesa di risposta... 200 OK\n",
      "Lunghezza: 525 [text/plain]\n",
      "Salvataggio in: «populations.txt»\n",
      "\n",
      "populations.txt     100%[===================>]     525  --.-KB/s    in 0s      \n",
      "\n",
      "2022-11-18 15:09:59 (68,8 MB/s) - «populations.txt» salvato [525/525]\n",
      "\n"
     ]
    }
   ],
   "source": [
    "! wget https://www.dropbox.com/s/3vigxoqayo389uc/populations.txt"
   ]
  },
  {
   "cell_type": "code",
   "execution_count": 49,
   "id": "a934d11e",
   "metadata": {},
   "outputs": [
    {
     "name": "stdout",
     "output_type": "stream",
     "text": [
      "# year\thare\tlynx\tcarrot\n",
      "1900\t30e3\t4e3\t48300\n",
      "1901\t47.2e3\t6.1e3\t48200\n",
      "1902\t70.2e3\t9.8e3\t41500\n",
      "1903\t77.4e3\t35.2e3\t38200\n",
      "1904\t36.3e3\t59.4e3\t40600\n",
      "1905\t20.6e3\t41.7e3\t39800\n",
      "1906\t18.1e3\t19e3\t38600\n",
      "1907\t21.4e3\t13e3\t42300\n",
      "1908\t22e3\t8.3e3\t44500\n",
      "1909\t25.4e3\t9.1e3\t42100\n",
      "1910\t27.1e3\t7.4e3\t46000\n",
      "1911\t40.3e3\t8e3\t46800\n",
      "1912\t57e3\t12.3e3\t43800\n",
      "1913\t76.6e3\t19.5e3\t40900\n",
      "1914\t52.3e3\t45.7e3\t39400\n",
      "1915\t19.5e3\t51.1e3\t39000\n",
      "1916\t11.2e3\t29.7e3\t36700\n",
      "1917\t7.6e3\t15.8e3\t41800\n",
      "1918\t14.6e3\t9.7e3\t43300\n",
      "1919\t16.2e3\t10.1e3\t41300\n",
      "1920\t24.7e3\t8.6e3\t47300\n",
      "\n"
     ]
    }
   ],
   "source": [
    "#VISUALIZE FILE\n",
    "with open (\"populations.txt\", \"r\") as f:\n",
    "    data = f.read()\n",
    "data = np.array(data, type=\"int\")\n",
    "print(data)"
   ]
  },
  {
   "cell_type": "code",
   "execution_count": 74,
   "id": "75ba42c3",
   "metadata": {},
   "outputs": [
    {
     "data": {
      "image/png": "[encoded data removed]",
      "text/plain": [
       "<Figure size 432x288 with 1 Axes>"
      ]
     },
     "metadata": {
      "needs_background": "light"
     },
     "output_type": "display_data"
    }
   ],
   "source": [
    "data = np.loadtxt(\"populations.txt\")\n",
    "#print(data.shape,type(data))\n",
    "#print(data[:,0])\n",
    "year = data [:,0]\n",
    "hare = data [:,1]\n",
    "lynx = data[:,2]\n",
    "carrot = data[:,3]\n",
    "\n",
    "plt.plot(year, hare, label='hare')\n",
    "plt.plot(year,lynx, label='lynx')\n",
    "plt.plot(year,carrot, label='carrot')\n",
    "plt.xlabel(\"year\")\n",
    "plt.legend()\n",
    "plt.show()"
   ]
  },
  {
   "cell_type": "code",
   "execution_count": 161,
   "id": "8502f33b",
   "metadata": {},
   "outputs": [
    {
     "name": "stdout",
     "output_type": "stream",
     "text": [
      "< hare >= 34080.95238095238 pm 20897.906458089667 ( rel err: 0.6131843448650035  )\n",
      "< lynx >= 20166.666666666668 pm 16254.591536908763 ( rel err: 0.8060128034830791  )\n",
      "< carrot >= 42400.0 pm 3322.5062255844787 ( rel err: 0.07836099588642638  )\n",
      "hare-lynx: 0.07189206073535573\n",
      "hare-lynx: [[4.58558619e+08 2.56418333e+07]\n",
      " [2.56418333e+07 2.77422333e+08]]\n",
      "hare-carrot: -0.016603777709879402\n",
      "carrot-lynx -0.6805771698401617\n",
      "random: 0.37123921349630923\n",
      "random: -0.26482403787446507\n",
      "random: -0.8913329863924174\n",
      "random: -0.5658250686935022\n",
      "random: 0.471946547708981\n",
      "random: -0.8296323978006028\n",
      "random: 0.11291661482674734\n",
      "random: 0.665069139626427\n",
      "random: 0.6719558803489989\n",
      "random: -0.37660100939321667\n"
     ]
    }
   ],
   "source": [
    "np.mean(hare)\n",
    "np.mean(lynx)\n",
    "i = 1\n",
    "for x in [\"hare\",\"lynx\",\"carrot\"]:\n",
    "    print(\"<\",x,\">=\",np.mean(data[:,i]),\"pm\", np.std(data[:,i]), \"( rel err:\",np.std(data[:,i]) / np.mean(data[:,i]),\" )\")\n",
    "    i += 1\n",
    "#print(np.correlate(hare,lynx))\n",
    "#print(np.correlate(hare,carrot))\n",
    "#print(np.correlate(carrot,lynx))\n",
    "#print(np.correlate(np.random.rand(10),np.random.rand(10)))\n",
    "#print(\"--------\")\n",
    "#print(data[:,1:3])\n",
    "\n",
    "print(\"hare-lynx:\",np.corrcoef(hare,lynx)[1,0])\n",
    "print(\"hare-lynx:\",np.cov(hare,lynx))\n",
    "print(\"hare-carrot:\",np.corrcoef(hare,carrot)[1,0] )\n",
    "print(\"carrot-lynx\", np.corrcoef(carrot, lynx)[1,0])\n",
    "for i in range(10):\n",
    "    print(\"random:\",np.corrcoef(np.random.rand(5),np.random.rand(5))[1,0] )"
   ]
  },
  {
   "cell_type": "code",
   "execution_count": 167,
   "id": "3c2705ff",
   "metadata": {},
   "outputs": [
    {
     "name": "stdout",
     "output_type": "stream",
     "text": [
      "[[10 11 12 13 14 15 16 17 18 19]\n",
      " [ 2  1  4  5  8 12 18 25 96 48]]\n"
     ]
    },
    {
     "data": {
      "text/plain": [
       "[<matplotlib.lines.Line2D at 0x7f61f3b0a760>]"
      ]
     },
     "execution_count": 167,
     "metadata": {},
     "output_type": "execute_result"
    },
    {
     "data": {
      "image/png": "[encoded data removed]",
      "text/plain": [
       "<Figure size 432x288 with 1 Axes>"
      ]
     },
     "metadata": {
      "needs_background": "light"
     },
     "output_type": "display_data"
    }
   ],
   "source": [
    "x = np.arange(10, 20)\n",
    "y = np.array([2, 1, 4, 5, 8, 12, 18, 25, 96, 48])\n",
    "a = np.vstack((x,y)) \n",
    "print(a)\n",
    "np.corrcoef(x, y)\n",
    "plt.plot(hare,lynx)"
   ]
  },
  {
   "cell_type": "code",
   "execution_count": null,
   "id": "02d2b76e",
   "metadata": {},
   "outputs": [],
   "source": []
  }
 ],
 "metadata": {
  "kernelspec": {
   "display_name": "Python 3 (ipykernel)",
   "language": "python",
   "name": "python3"
  },
  "language_info": {
   "codemirror_mode": {
    "name": "ipython",
    "version": 3
   },
   "file_extension": ".py",
   "mimetype": "text/x-python",
   "name": "python",
   "nbconvert_exporter": "python",
   "pygments_lexer": "ipython3",
   "version": "3.9.12"
  }
 },
 "nbformat": 4,
 "nbformat_minor": 5
}
